{
 "cells": [
  {
   "cell_type": "code",
   "execution_count": 1,
   "metadata": {},
   "outputs": [],
   "source": [
    "import pandas as pd\n",
    "import numpy as np\n",
    "import re\n",
    "from collections import Counter"
   ]
  },
  {
   "cell_type": "code",
   "execution_count": null,
   "metadata": {},
   "outputs": [],
   "source": [
    "with open('day_9.txt', 'r') as f:\n",
    "    mat =  f.read().splitlines()\n",
    "\n",
    "mat"
   ]
  },
  {
   "cell_type": "code",
   "execution_count": null,
   "metadata": {},
   "outputs": [],
   "source": [
    "_id = 0\n",
    "i = 0\n",
    "line = []\n",
    "for elt in mat[0]:\n",
    "    if i%2==0:\n",
    "        val = [str(_id) for l in range(int(elt))]\n",
    "        _id+=1\n",
    "    else:\n",
    "        val = ['.' for k in range(int(elt))]\n",
    "    \n",
    "    i+=1\n",
    "    \n",
    "    line = line + val\n",
    "\n",
    "line"
   ]
  },
  {
   "cell_type": "code",
   "execution_count": 52,
   "metadata": {},
   "outputs": [],
   "source": [
    "def get_last(listo):\n",
    "    for i, e in enumerate(reversed(listo)):\n",
    "        if str(e) != '.':\n",
    "            return len(listo) - i - 1\n",
    "    return -1"
   ]
  },
  {
   "cell_type": "code",
   "execution_count": null,
   "metadata": {},
   "outputs": [],
   "source": [
    "for i in range(len(line)):\n",
    "    print(line[i])\n",
    "    if line[i] == '.':\n",
    "        x=line[i]\n",
    "        last = get_last(line)\n",
    "        print(f'i = {i}')\n",
    "        print(f'last = {last}')\n",
    "        if last<i:\n",
    "            break\n",
    "        line[i] = line[last]\n",
    "        line[last] = '.'\n",
    "\n",
    "\n"
   ]
  },
  {
   "cell_type": "code",
   "execution_count": null,
   "metadata": {},
   "outputs": [],
   "source": [
    "line_number = [elt for elt in line if elt!='.']\n",
    "check_sum = [(i)*int(e) for i,e in enumerate(line_number) ]\n",
    "sum(check_sum)"
   ]
  },
  {
   "cell_type": "markdown",
   "metadata": {},
   "source": [
    "Part 2 "
   ]
  },
  {
   "cell_type": "code",
   "execution_count": 42,
   "metadata": {},
   "outputs": [],
   "source": [
    "import pandas as pd\n",
    "import numpy as np\n",
    "import re\n",
    "from collections import Counter"
   ]
  },
  {
   "cell_type": "code",
   "execution_count": null,
   "metadata": {},
   "outputs": [],
   "source": [
    "with open('day_9.txt', 'r') as f:\n",
    "    mat =  f.read().splitlines()\n",
    "\n",
    "mat"
   ]
  },
  {
   "cell_type": "code",
   "execution_count": null,
   "metadata": {},
   "outputs": [],
   "source": [
    "_id = 0\n",
    "\n",
    "line = []\n",
    "dict_val={}\n",
    "dict_gap = {}\n",
    "for i in range(len(mat[0])):\n",
    "    print(i)\n",
    "    elt = mat[0][i]\n",
    "    h = sum([int(k) for k in mat[0][:i]])\n",
    "    if i%2==0:\n",
    "        val = [str(_id) for l in range(int(elt))]\n",
    "        dict_val[str(_id)] = (h,int(elt))\n",
    "        _id+=1\n",
    "\n",
    "    else:\n",
    "        \n",
    "        val = ['.' for k in range(int(elt))]\n",
    "        dict_gap[i] = (h,int(elt))\n",
    "    \n",
    "\n",
    "    \n",
    "    line = line + val\n",
    "    \n",
    "\n",
    "list_blocks = list([int(val) for val in dict_val.keys()])\n",
    "list_blocks\n"
   ]
  },
  {
   "cell_type": "code",
   "execution_count": null,
   "metadata": {},
   "outputs": [],
   "source": [
    "\n",
    "for ke in reversed(sorted(list_blocks)):\n",
    "    key=str(ke)\n",
    "    index_val, dim = dict_val[key]\n",
    "    print(f'key: {key}')\n",
    "    # print(line)\n",
    "    for gap_id, (gap_ind, gap_size) in dict_gap.items():\n",
    "        # print((gap_ind, gap_size))\n",
    "        if gap_ind<=index_val:\n",
    "\n",
    "            if dim<= gap_size:\n",
    "                line = ['.' if x == key else x for x in line]\n",
    "                for k in range(gap_ind,gap_ind + dim):\n",
    "                    line[k] = int(key)\n",
    "                \n",
    "                if gap_size == dim:\n",
    "                    del dict_gap[gap_id]\n",
    "                else:\n",
    "                    dict_gap[gap_id] = gap_ind + dim, gap_size-dim\n",
    "\n",
    "                break\n",
    "\n",
    "check_sum = [(i)*int(e) if e!='.' else 0 for i,e in enumerate(line) ]\n",
    "sum(check_sum)"
   ]
  },
  {
   "cell_type": "code",
   "execution_count": null,
   "metadata": {},
   "outputs": [],
   "source": []
  },
  {
   "cell_type": "code",
   "execution_count": null,
   "metadata": {},
   "outputs": [],
   "source": []
  }
 ],
 "metadata": {
  "kernelspec": {
   "display_name": ".venv",
   "language": "python",
   "name": "python3"
  },
  "language_info": {
   "codemirror_mode": {
    "name": "ipython",
    "version": 3
   },
   "file_extension": ".py",
   "mimetype": "text/x-python",
   "name": "python",
   "nbconvert_exporter": "python",
   "pygments_lexer": "ipython3",
   "version": "3.12.0"
  }
 },
 "nbformat": 4,
 "nbformat_minor": 2
}
