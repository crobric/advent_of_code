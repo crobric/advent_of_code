{
 "cells": [
  {
   "cell_type": "code",
   "execution_count": 1,
   "metadata": {},
   "outputs": [],
   "source": [
    "import pandas as pd\n",
    "import numpy as np"
   ]
  },
  {
   "cell_type": "code",
   "execution_count": null,
   "metadata": {},
   "outputs": [],
   "source": [
    "with open('day_2.txt', 'r') as f:\n",
    "    lists = [list(map(int, i.split())) for i in f.readlines()]\n",
    "\n",
    "lists"
   ]
  },
  {
   "cell_type": "code",
   "execution_count": 25,
   "metadata": {},
   "outputs": [],
   "source": [
    "def max_interval(numbers):\n",
    "    # Calculate the differences between consecutive numbers\n",
    "    intervals = [abs(numbers[i+1] - numbers[i]) for i in range(len(numbers) - 1)]\n",
    "    # Return the maximum interval\n",
    "    return max(intervals)\n",
    "\n",
    "def increasing_decreasing(numbers):\n",
    "    inc = all([(numbers[i+1] - numbers[i])>0 for i in range(len(numbers) - 1)])\n",
    "    dec = all([(numbers[i+1] - numbers[i])<0 for i in range(len(numbers) - 1)])\n",
    "    return inc or dec\n"
   ]
  },
  {
   "cell_type": "code",
   "execution_count": null,
   "metadata": {},
   "outputs": [],
   "source": [
    "count = 0\n",
    "for i in lists:\n",
    "    if max_interval(i)<=3 and increasing_decreasing(i):\n",
    "        count+=1\n",
    "count"
   ]
  },
  {
   "cell_type": "code",
   "execution_count": null,
   "metadata": {},
   "outputs": [],
   "source": [
    "count = 0\n",
    "for list_copy in lists:\n",
    "    listo=list_copy.copy()\n",
    "    test = max_interval(listo)<=3 and increasing_decreasing(listo)\n",
    "\n",
    "    if test:\n",
    "        count+=1\n",
    "        \n",
    "    else:\n",
    "        for ind in range(len(listo)):\n",
    "            new_list = listo.copy()\n",
    "            new_list.pop(ind)\n",
    "            print(ind)\n",
    "            print(listo)\n",
    "            print(new_list)\n",
    "\n",
    "            if max_interval(new_list)<=3 and increasing_decreasing(new_list):\n",
    "                count+=1\n",
    "                break\n",
    "\n",
    "        \n",
    "\n",
    "count"
   ]
  }
 ],
 "metadata": {
  "kernelspec": {
   "display_name": ".venv",
   "language": "python",
   "name": "python3"
  },
  "language_info": {
   "codemirror_mode": {
    "name": "ipython",
    "version": 3
   },
   "file_extension": ".py",
   "mimetype": "text/x-python",
   "name": "python",
   "nbconvert_exporter": "python",
   "pygments_lexer": "ipython3",
   "version": "3.12.0"
  }
 },
 "nbformat": 4,
 "nbformat_minor": 2
}
