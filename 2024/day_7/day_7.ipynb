{
 "cells": [
  {
   "cell_type": "code",
   "execution_count": 2,
   "metadata": {},
   "outputs": [],
   "source": [
    "import pandas as pd\n",
    "import numpy as np\n",
    "import copy\n",
    "import re"
   ]
  },
  {
   "cell_type": "code",
   "execution_count": null,
   "metadata": {},
   "outputs": [],
   "source": [
    "with open('day_7.txt', 'r') as f:\n",
    "    mat = ([list(i) for i in f.read().splitlines()])\n",
    "\n",
    "test = [''.join(i).split(':') for i in mat]\n",
    "dico = [(int(elt[0]),list(map(int,elt[1].split(' ')[1:]))) for elt in test]\n",
    "dico"
   ]
  },
  {
   "cell_type": "code",
   "execution_count": null,
   "metadata": {},
   "outputs": [],
   "source": [
    "\n",
    "list_valid = []\n",
    "\n",
    "for value in range(len(dico)):\n",
    "    elt = dico[value][0]\n",
    "    rec_list = [dico[value][1][0]]\n",
    "    for i in range(1, len(dico[value][1])):\n",
    "        print(i)\n",
    "        rec_list_add = [hh + dico[value][1][i] for hh in rec_list if hh <= elt]\n",
    "        rec_list_multiply = [hh * dico[value][1][i] for hh in rec_list if hh <= elt]\n",
    "        rec_list_concatenate = [int(str(hh) + str(dico[value][1][i])) for hh in rec_list if hh <= elt]\n",
    "        print(value)\n",
    "        print(f'elt : {dico[value][0]}')\n",
    "        print(f'value to add or multiply : {dico[value][1][i]}')\n",
    "\n",
    "        rec_list = rec_list_add + rec_list_multiply + rec_list_concatenate\n",
    "        print(rec_list)\n",
    "\n",
    "    if elt in rec_list:\n",
    "        list_valid = list_valid + [elt]\n",
    "    \n",
    "sum(list_valid)\n",
    "\n"
   ]
  },
  {
   "cell_type": "code",
   "execution_count": null,
   "metadata": {},
   "outputs": [],
   "source": [
    "dico[value][1]"
   ]
  },
  {
   "cell_type": "code",
   "execution_count": null,
   "metadata": {},
   "outputs": [],
   "source": [
    "rec_list"
   ]
  },
  {
   "cell_type": "code",
   "execution_count": null,
   "metadata": {},
   "outputs": [],
   "source": [
    "[dico[elt][0]]"
   ]
  },
  {
   "cell_type": "code",
   "execution_count": 83,
   "metadata": {},
   "outputs": [],
   "source": [
    "# Create list of tuples with all obstacle position\n",
    "xs, ys = np.where(mat == '#')\n",
    "obstacle_positions = list(zip(xs,ys))\n",
    "\n",
    "#Identify start position\n",
    "xstart, ystart = np.where(mat=='^')\n",
    "departure_guard = list(zip(xstart,ystart))[0]\n",
    "departure_direction = 'N'\n",
    "\n",
    "\n",
    "#Maximum values for i,j\n",
    "imax, jmax = mat.shape"
   ]
  },
  {
   "cell_type": "code",
   "execution_count": null,
   "metadata": {},
   "outputs": [],
   "source": [
    "i,j = departure_guard\n",
    "table_positions = [(i,j,departure_direction)]\n",
    "direction = departure_direction\n",
    "\n",
    "while i>=0 and i<imax and j>=0 and j<jmax:\n",
    "    i,j, direction = next_position(i,j,direction,obstacle_positions)\n",
    "    table_positions.append((i,j,direction))\n",
    "\n",
    "table_positions.pop() #remove last element as outside the map\n",
    "unique_positions=list(set(table_positions))\n",
    "len(unique_positions)\n"
   ]
  },
  {
   "cell_type": "code",
   "execution_count": null,
   "metadata": {},
   "outputs": [],
   "source": [
    "list_possible_obstacles = []\n",
    "\n",
    "for i_obs in range(0, imax):\n",
    "    for j_obs in range(0,jmax):\n",
    "        print(i_obs,j_obs)\n",
    "        _run = True\n",
    "        i,j = departure_guard\n",
    "        table_positions = [(i,j,departure_direction)]\n",
    "        direction = departure_direction\n",
    "\n",
    "        if (not (i_obs,j_obs) in obstacle_positions) and (i_obs,j_obs)!=departure_guard:\n",
    "            new_obstacles = copy.deepcopy(obstacle_positions)\n",
    "            new_obstacles.append((i_obs,j_obs))\n",
    "\n",
    "            while _run:\n",
    "                i,j, direction = next_position(i,j,direction,obstacle_positions)\n",
    "                if i>=0 and i<imax and j>=0 and j<jmax:\n",
    "                    if (i,j,direction) in table_positions:\n",
    "                        _run = False\n",
    "                        print(\"add obstacle here\")\n",
    "                        list_possible_obstacles.append((i,j,direction))\n",
    "                    else:\n",
    "                        table_positions.append((i,j,direction))\n",
    "                        \n",
    "                else:\n",
    "                    _run=False\n",
    "\n",
    "len(list_possible_obstacles)\n",
    "        "
   ]
  },
  {
   "cell_type": "code",
   "execution_count": null,
   "metadata": {},
   "outputs": [],
   "source": [
    "list_possible_obstacles"
   ]
  },
  {
   "cell_type": "code",
   "execution_count": null,
   "metadata": {},
   "outputs": [],
   "source": []
  }
 ],
 "metadata": {
  "kernelspec": {
   "display_name": ".venv",
   "language": "python",
   "name": "python3"
  },
  "language_info": {
   "codemirror_mode": {
    "name": "ipython",
    "version": 3
   },
   "file_extension": ".py",
   "mimetype": "text/x-python",
   "name": "python",
   "nbconvert_exporter": "python",
   "pygments_lexer": "ipython3",
   "version": "3.12.0"
  }
 },
 "nbformat": 4,
 "nbformat_minor": 2
}
