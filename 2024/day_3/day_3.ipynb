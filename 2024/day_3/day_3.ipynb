{
 "cells": [
  {
   "cell_type": "code",
   "execution_count": 4,
   "metadata": {},
   "outputs": [],
   "source": [
    "import pandas as pd\n",
    "import numpy as np\n",
    "import re"
   ]
  },
  {
   "cell_type": "code",
   "execution_count": null,
   "metadata": {},
   "outputs": [],
   "source": [
    "with open('day_3.txt', 'r') as f:\n",
    "    lists = f.read()\n",
    "\n",
    "lists"
   ]
  },
  {
   "cell_type": "code",
   "execution_count": 31,
   "metadata": {},
   "outputs": [],
   "source": [
    "keep = re.findall(r'mul\\(\\d{1,3}\\,\\d{1,3}\\)|do\\(\\)|don\\'t\\(\\)',lists)"
   ]
  },
  {
   "cell_type": "code",
   "execution_count": null,
   "metadata": {},
   "outputs": [],
   "source": [
    "keep = pd.DataFrame(keep, columns=['mul'])\n",
    "keep['enable']=True\n",
    "keep"
   ]
  },
  {
   "cell_type": "code",
   "execution_count": null,
   "metadata": {},
   "outputs": [],
   "source": [
    "keep['num1'] = keep['mul'].str.extract('\\((\\d{1,3})', expand=False)\n",
    "keep['num2'] = keep['mul'].str.extract('(\\d{1,3})\\)', expand=False)\n",
    "keep['product'] = keep['num1'].astype(int) * keep['num2'].astype(int)\n",
    "sum = keep['product'].sum()\n",
    "sum"
   ]
  },
  {
   "cell_type": "code",
   "execution_count": null,
   "metadata": {},
   "outputs": [],
   "source": [
    "keep = pd.DataFrame(keep, columns=['mul'])\n",
    "keep['enable']=None\n",
    "keep['enable'] = keep['enable'].where(keep['mul']!='do()',1)\n",
    "keep['enable'] = keep['enable'].where(keep['mul']!=\"don't()\",0)\n",
    "keep['enable'] = keep['enable'].ffill()\n",
    "keep['enable'] = keep['enable'].fillna(1)\n",
    "keep"
   ]
  },
  {
   "cell_type": "code",
   "execution_count": null,
   "metadata": {},
   "outputs": [],
   "source": [
    "keep = keep[(keep['mul']!='do()')]\n",
    "keep = keep[(keep['mul']!=\"don't()\") ]\n",
    "keep['num1'] = keep['mul'].str.extract('\\((\\d{1,3})', expand=False)\n",
    "keep['num2'] = keep['mul'].str.extract('(\\d{1,3})\\)', expand=False)\n",
    "keep['product'] = keep['num1'].astype(int) * keep['num2'].astype(int)*keep['enable']\n",
    "sum = keep['product'].sum()\n",
    "sum"
   ]
  },
  {
   "cell_type": "code",
   "execution_count": null,
   "metadata": {},
   "outputs": [],
   "source": []
  }
 ],
 "metadata": {
  "kernelspec": {
   "display_name": ".venv",
   "language": "python",
   "name": "python3"
  },
  "language_info": {
   "codemirror_mode": {
    "name": "ipython",
    "version": 3
   },
   "file_extension": ".py",
   "mimetype": "text/x-python",
   "name": "python",
   "nbconvert_exporter": "python",
   "pygments_lexer": "ipython3",
   "version": "3.12.0"
  }
 },
 "nbformat": 4,
 "nbformat_minor": 2
}
