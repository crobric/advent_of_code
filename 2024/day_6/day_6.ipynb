{
 "cells": [
  {
   "cell_type": "code",
   "execution_count": 80,
   "metadata": {},
   "outputs": [],
   "source": [
    "import pandas as pd\n",
    "import numpy as np\n",
    "import copy\n",
    "import re"
   ]
  },
  {
   "cell_type": "code",
   "execution_count": null,
   "metadata": {},
   "outputs": [],
   "source": [
    "with open('day_6.txt', 'r') as f:\n",
    "    mat = np.array([list(i) for i in f.read().splitlines()])\n",
    "\n",
    "mat"
   ]
  },
  {
   "cell_type": "code",
   "execution_count": 82,
   "metadata": {},
   "outputs": [],
   "source": [
    "#define a function that calcualtes what the next position will be\n",
    "\n",
    "def next_position(i,j,facing_direction,obstacles_position):\n",
    "\n",
    "    #Determine next position\n",
    "    match facing_direction:\n",
    "        case \"N\":\n",
    "            next_i = i-1\n",
    "            next_j = j\n",
    "            next_direction = 'E'\n",
    "\n",
    "        case \"S\":\n",
    "            next_i = i+1\n",
    "            next_j = j\n",
    "            next_direction = 'W'\n",
    "\n",
    "        case \"W\":\n",
    "            next_i = i\n",
    "            next_j = j-1\n",
    "            next_direction = 'N'\n",
    "\n",
    "        case \"E\":\n",
    "            next_i = i\n",
    "            next_j = j+1\n",
    "            next_direction = 'S'\n",
    "    \n",
    "    if (next_i,next_j) in obstacles_position:\n",
    "        next_i = i\n",
    "        next_j = j\n",
    "        facing_direction = next_direction\n",
    "\n",
    "    return next_i,next_j, facing_direction\n",
    "\n"
   ]
  },
  {
   "cell_type": "code",
   "execution_count": 83,
   "metadata": {},
   "outputs": [],
   "source": [
    "# Create list of tuples with all obstacle position\n",
    "xs, ys = np.where(mat == '#')\n",
    "obstacle_positions = list(zip(xs,ys))\n",
    "\n",
    "#Identify start position\n",
    "xstart, ystart = np.where(mat=='^')\n",
    "departure_guard = list(zip(xstart,ystart))[0]\n",
    "departure_direction = 'N'\n",
    "\n",
    "\n",
    "#Maximum values for i,j\n",
    "imax, jmax = mat.shape"
   ]
  },
  {
   "cell_type": "code",
   "execution_count": null,
   "metadata": {},
   "outputs": [],
   "source": [
    "i,j = departure_guard\n",
    "table_positions = [(i,j,departure_direction)]\n",
    "direction = departure_direction\n",
    "\n",
    "while i>=0 and i<imax and j>=0 and j<jmax:\n",
    "    i,j, direction = next_position(i,j,direction,obstacle_positions)\n",
    "    table_positions.append((i,j,direction))\n",
    "\n",
    "table_positions.pop() #remove last element as outside the map\n",
    "unique_positions=list(set(table_positions))\n",
    "len(unique_positions)\n"
   ]
  },
  {
   "cell_type": "code",
   "execution_count": null,
   "metadata": {},
   "outputs": [],
   "source": [
    "list_possible_obstacles = []\n",
    "\n",
    "for i_obs in range(0, imax):\n",
    "    for j_obs in range(0,jmax):\n",
    "        print(i_obs,j_obs)\n",
    "        _run = True\n",
    "        i,j = departure_guard\n",
    "        table_positions = [(i,j,departure_direction)]\n",
    "        direction = departure_direction\n",
    "\n",
    "        if (not (i_obs,j_obs) in obstacle_positions) and (i_obs,j_obs)!=departure_guard:\n",
    "            new_obstacles = copy.deepcopy(obstacle_positions)\n",
    "            new_obstacles.append((i_obs,j_obs))\n",
    "\n",
    "            while _run:\n",
    "                i,j, direction = next_position(i,j,direction,obstacle_positions)\n",
    "                if i>=0 and i<imax and j>=0 and j<jmax:\n",
    "                    if (i,j,direction) in table_positions:\n",
    "                        _run = False\n",
    "                        print(\"add obstacle here\")\n",
    "                        list_possible_obstacles.append((i,j,direction))\n",
    "                    else:\n",
    "                        table_positions.append((i,j,direction))\n",
    "                        \n",
    "                else:\n",
    "                    _run=False\n",
    "\n",
    "len(list_possible_obstacles)\n",
    "        "
   ]
  },
  {
   "cell_type": "code",
   "execution_count": null,
   "metadata": {},
   "outputs": [],
   "source": [
    "list_possible_obstacles"
   ]
  },
  {
   "cell_type": "code",
   "execution_count": null,
   "metadata": {},
   "outputs": [],
   "source": []
  }
 ],
 "metadata": {
  "kernelspec": {
   "display_name": ".venv",
   "language": "python",
   "name": "python3"
  },
  "language_info": {
   "codemirror_mode": {
    "name": "ipython",
    "version": 3
   },
   "file_extension": ".py",
   "mimetype": "text/x-python",
   "name": "python",
   "nbconvert_exporter": "python",
   "pygments_lexer": "ipython3",
   "version": "3.12.0"
  }
 },
 "nbformat": 4,
 "nbformat_minor": 2
}
