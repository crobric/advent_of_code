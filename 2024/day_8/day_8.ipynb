{
 "cells": [
  {
   "cell_type": "code",
   "execution_count": 22,
   "metadata": {},
   "outputs": [],
   "source": [
    "import pandas as pd\n",
    "import numpy as np\n",
    "import re\n",
    "from collections import Counter"
   ]
  },
  {
   "cell_type": "code",
   "execution_count": null,
   "metadata": {},
   "outputs": [],
   "source": [
    "with open('day_8.txt', 'r') as f:\n",
    "    mat = np.array([list(i) for i in f.read().splitlines()])\n",
    "\n",
    "mat"
   ]
  },
  {
   "cell_type": "code",
   "execution_count": 76,
   "metadata": {},
   "outputs": [],
   "source": [
    "def antinode(point1,point2,i_max,j_max):\n",
    "    #point to be a tuple of 2 elements (i,j)\n",
    "    i1,j1 = point1\n",
    "    i2,j2 = point2\n",
    "    \n",
    "    i_dist = np.abs(i1-i2)\n",
    "    j_dist=np.abs(j1-j2)\n",
    "\n",
    "    i_antup = min(i1,i2)-i_dist\n",
    "    i_antdown = max(i1,i2)+i_dist\n",
    "    \n",
    "    if j1<=j2:\n",
    "        j_antup = min(j1,j2)-j_dist\n",
    "        j_antdown = max(j1,j2)+j_dist\n",
    "    else:\n",
    "        j_antup = max(j1,j2)+j_dist\n",
    "        j_antdown = min(j1,j2)-j_dist\n",
    "\n",
    "    if i_antup<i_max and j_antup < j_max and i_antdown<i_max and j_antdown < j_max and all(value>=0 for value in [i_antup,j_antup, i_antdown,j_antdown]):\n",
    "        return [(i_antup,j_antup), (i_antdown,j_antdown) ]\n",
    "\n",
    "    elif i_antup<i_max and j_antup < j_max and all(value>=0 for value in [i_antup,j_antup]):\n",
    "        return [(i_antup,j_antup)]\n",
    "    \n",
    "    elif i_antdown<i_max and j_antdown < j_max and all(value>=0 for value in [i_antdown,j_antdown]):\n",
    "        return [(i_antdown,j_antdown)] "
   ]
  },
  {
   "cell_type": "code",
   "execution_count": null,
   "metadata": {},
   "outputs": [],
   "source": [
    "#identify location of all letters, then comapre with other eltters and calcualte location of the antinodes\n",
    "\n",
    "#location of letters\n",
    "letter_list =[]\n",
    "\n",
    "imax,jmax = mat.shape\n",
    "for i in range(imax):\n",
    "    for j in range(jmax):\n",
    "        elt = mat[i][j]\n",
    "        if elt!='.':\n",
    "            letter_list.append((elt,(i,j)))\n",
    "\n",
    "letter_list\n"
   ]
  },
  {
   "cell_type": "code",
   "execution_count": null,
   "metadata": {},
   "outputs": [],
   "source": [
    "list_antinode = []\n",
    "\n",
    "for ind in range(len(letter_list)):\n",
    "    print(ind)\n",
    "    elt = letter_list[ind]\n",
    "    print(elt)\n",
    "    list_test = letter_list[ind+1:]\n",
    "    \n",
    "    for letter in list_test:\n",
    "        if letter[0]== elt[0]:\n",
    "            try:\n",
    "                print(letter)\n",
    "                list_antinode = list_antinode + antinode(elt[1],letter[1],imax,jmax)\n",
    "                print(antinode(elt[1],letter[1],imax,jmax))\n",
    "            except:\n",
    "                continue\n",
    "len(list(set(list_antinode)))\n"
   ]
  },
  {
   "cell_type": "markdown",
   "metadata": {},
   "source": [
    "Part 2 "
   ]
  },
  {
   "cell_type": "code",
   "execution_count": 81,
   "metadata": {},
   "outputs": [],
   "source": [
    "def antinode_part_2(point1,point2,i_max,j_max):\n",
    "    #point to be a tuple of 2 elements (i,j)\n",
    "    i1,j1 = point1\n",
    "    i2,j2 = point2\n",
    "    \n",
    "    i_dist = np.abs(i1-i2)\n",
    "    j_dist=np.abs(j1-j2)\n",
    "\n",
    "    up_list = []\n",
    "    up_count=1\n",
    "    _continue = True\n",
    "    while _continue:\n",
    "        i_antup = min(i1,i2)-i_dist*up_count\n",
    "        if j1<=j2:\n",
    "            j_antup = min(j1,j2)-j_dist*up_count\n",
    "        else:\n",
    "            j_antup = max(j1,j2)+j_dist*up_count\n",
    "            \n",
    "        if i_antup<i_max and j_antup < j_max and all(value>=0 for value in [i_antup,j_antup]):\n",
    "            up_list = up_list + [(i_antup,j_antup)]\n",
    "            up_count+=1\n",
    "        else:\n",
    "            _continue = False\n",
    "\n",
    "    down_list = []\n",
    "    down_count=1\n",
    "    _continue = True\n",
    "    while _continue:\n",
    "        i_antdown = max(i1,i2)+i_dist*down_count\n",
    "        if j1<=j2:\n",
    "            j_antdown = max(j1,j2)+j_dist*down_count\n",
    "        else:\n",
    "            j_antdown = min(j1,j2)-j_dist*down_count\n",
    "        \n",
    "        if i_antdown<i_max and j_antdown < j_max and all(value>=0 for value in [i_antdown,j_antdown]):\n",
    "            down_list = down_list + [(i_antdown,j_antdown)]\n",
    "            down_count+=1\n",
    "        else:\n",
    "            _continue = False\n",
    "            \n",
    "    return up_list + down_list\n"
   ]
  },
  {
   "cell_type": "code",
   "execution_count": null,
   "metadata": {},
   "outputs": [],
   "source": [
    "#identify location of all letters, then comapre with other eltters and calcualte location of the antinodes\n",
    "\n",
    "#location of letters\n",
    "letter_list =[]\n",
    "\n",
    "imax,jmax = mat.shape\n",
    "for i in range(imax):\n",
    "    for j in range(jmax):\n",
    "        elt = mat[i][j]\n",
    "        if elt!='.':\n",
    "            letter_list.append((elt,(i,j)))\n",
    "\n",
    "letter_list"
   ]
  },
  {
   "cell_type": "code",
   "execution_count": null,
   "metadata": {},
   "outputs": [],
   "source": [
    "leng = [elt[1] for elt in letter_list]\n",
    "leng"
   ]
  },
  {
   "cell_type": "code",
   "execution_count": null,
   "metadata": {},
   "outputs": [],
   "source": [
    "list_antinode = []\n",
    "\n",
    "for ind in range(len(letter_list)):\n",
    "    print(ind)\n",
    "    elt = letter_list[ind]\n",
    "    print(elt)\n",
    "    list_test = letter_list[ind+1:]\n",
    "    \n",
    "    for letter in list_test:\n",
    "        if letter[0]== elt[0]:\n",
    "            try:\n",
    "                print(letter)\n",
    "                list_antinode = list_antinode + antinode_part_2(elt[1],letter[1],imax,jmax)\n",
    "                print(antinode(elt[1],letter[1],imax,jmax))\n",
    "            except:\n",
    "                continue\n",
    "len(list(set(list_antinode + leng)))"
   ]
  },
  {
   "cell_type": "code",
   "execution_count": null,
   "metadata": {},
   "outputs": [],
   "source": []
  }
 ],
 "metadata": {
  "kernelspec": {
   "display_name": ".venv",
   "language": "python",
   "name": "python3"
  },
  "language_info": {
   "codemirror_mode": {
    "name": "ipython",
    "version": 3
   },
   "file_extension": ".py",
   "mimetype": "text/x-python",
   "name": "python",
   "nbconvert_exporter": "python",
   "pygments_lexer": "ipython3",
   "version": "3.12.0"
  }
 },
 "nbformat": 4,
 "nbformat_minor": 2
}
