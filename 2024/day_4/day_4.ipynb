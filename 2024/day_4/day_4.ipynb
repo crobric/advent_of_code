{
 "cells": [
  {
   "cell_type": "code",
   "execution_count": 1,
   "metadata": {},
   "outputs": [],
   "source": [
    "import pandas as pd\n",
    "import numpy as np\n",
    "import re"
   ]
  },
  {
   "cell_type": "code",
   "execution_count": null,
   "metadata": {},
   "outputs": [],
   "source": [
    "with open('day_4.txt', 'r') as f:\n",
    "    mat = np.array([list(i) for i in f.read().splitlines()])\n",
    "\n",
    "mat"
   ]
  },
  {
   "cell_type": "code",
   "execution_count": null,
   "metadata": {},
   "outputs": [],
   "source": [
    "#Line and rows count\n",
    "xmas_count = 0\n",
    "\n",
    "for line in mat:\n",
    "    xmas_count+= ('').join(line).count(\"XMAS\") + ('').join(line).count(\"SAMX\")\n",
    "\n",
    "for line in mat.T:\n",
    "    xmas_count+= ('').join(line).count(\"XMAS\") + ('').join(line).count(\"SAMX\")\n",
    "\n",
    "#diagonals\n",
    "\n",
    "for diag_elt in range(-len(mat),len(mat)):\n",
    "    diag = mat.diagonal(diag_elt)\n",
    "    xmas_count+= ('').join(diag).count(\"XMAS\") + ('').join(diag).count(\"SAMX\")\n",
    "\n",
    "#anti_diagonals\n",
    "mat_flip = np.flipud(mat)\n",
    "for diag_elt in range(-len(mat_flip),len(mat_flip)):\n",
    "    print(diag_elt)\n",
    "    diag = mat_flip.diagonal(diag_elt)\n",
    "    print(diag)\n",
    "    xmas_count+= ('').join(diag).count(\"XMAS\") + ('').join(diag).count(\"SAMX\")\n",
    "\n",
    "xmas_count\n"
   ]
  },
  {
   "cell_type": "markdown",
   "metadata": {},
   "source": [
    "Part 2 "
   ]
  },
  {
   "cell_type": "code",
   "execution_count": null,
   "metadata": {},
   "outputs": [],
   "source": [
    "xmas_x = 0\n",
    "imax,jmax = mat.shape\n",
    "for i in range(imax-2):\n",
    "    for j in range(jmax-2):\n",
    "        window = mat[i:i+3,j:j+3]\n",
    "        \n",
    "        diag = window.diagonal()\n",
    "        anti_diag = np.flipud(window).diagonal()\n",
    "\n",
    "        diag_test = ('').join(diag).count(\"MAS\") + ('').join(diag).count(\"SAM\") >=1\n",
    "        anti_diag_test = ('').join(anti_diag).count(\"MAS\") + ('').join(anti_diag).count(\"SAM\") >=1\n",
    "        \n",
    "        xmas_x += diag_test and anti_diag_test\n",
    "        \n",
    "xmas_x\n"
   ]
  },
  {
   "cell_type": "code",
   "execution_count": null,
   "metadata": {},
   "outputs": [],
   "source": []
  }
 ],
 "metadata": {
  "kernelspec": {
   "display_name": ".venv",
   "language": "python",
   "name": "python3"
  },
  "language_info": {
   "codemirror_mode": {
    "name": "ipython",
    "version": 3
   },
   "file_extension": ".py",
   "mimetype": "text/x-python",
   "name": "python",
   "nbconvert_exporter": "python",
   "pygments_lexer": "ipython3",
   "version": "3.12.0"
  }
 },
 "nbformat": 4,
 "nbformat_minor": 2
}
