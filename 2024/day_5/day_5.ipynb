{
 "cells": [
  {
   "cell_type": "code",
   "execution_count": 1,
   "metadata": {},
   "outputs": [],
   "source": [
    "import pandas as pd\n",
    "import numpy as np\n",
    "import re"
   ]
  },
  {
   "cell_type": "code",
   "execution_count": null,
   "metadata": {},
   "outputs": [],
   "source": [
    "with open('day_5.txt', 'r') as f:\n",
    "    mat = ([list(i) for i in f.read().splitlines()])\n",
    "\n",
    "mat"
   ]
  },
  {
   "cell_type": "code",
   "execution_count": 3,
   "metadata": {},
   "outputs": [],
   "source": [
    "with open('lists.txt', 'r') as f:\n",
    "    text = ([list(i) for i in f.read().splitlines()])\n",
    "\n",
    "prints = [''.join(i).split(',') for i in text]"
   ]
  },
  {
   "cell_type": "code",
   "execution_count": null,
   "metadata": {},
   "outputs": [],
   "source": [
    "#create a dataframe with the page order, then use groupby to create two dicts: pages a number should be printed before, and pages it should be printed before\n",
    "page_order = [''.join(i).split('|') for i in mat]\n",
    "order = pd.DataFrame(page_order, columns=['before','after'])\n",
    "\n",
    "\n",
    "dic_before={}\n",
    "for i in order['before'].unique():\n",
    "    dic_before[i]=list(order[order['before']==i]['after'].values)"
   ]
  },
  {
   "cell_type": "code",
   "execution_count": null,
   "metadata": {},
   "outputs": [],
   "source": [
    "\n",
    "valid_prints = []\n",
    "\n",
    "for printo in prints:\n",
    "    print_ok = True\n",
    "    print_copy = printo.copy()\n",
    "\n",
    "    #find mid_element\n",
    "    mid_index = int(((len(print_copy)-1)/2))\n",
    "    mid_value = int(print_copy[mid_index:][0])\n",
    "\n",
    "    #check if the elements follow the printing rules\n",
    "    for ind in range(len(printo)-1):\n",
    "        print_before = print_copy[ind+1:]\n",
    "        elt = print_copy[ind]\n",
    "        for et in print_before:\n",
    "            if elt in dic_before[et]:\n",
    "                print_ok = False\n",
    "   \n",
    "    if print_ok:\n",
    "        valid_prints.append(mid_value)\n",
    "\n",
    "sum(valid_prints)       \n"
   ]
  },
  {
   "cell_type": "markdown",
   "metadata": {},
   "source": [
    "Part 2 "
   ]
  },
  {
   "cell_type": "code",
   "execution_count": null,
   "metadata": {},
   "outputs": [],
   "source": [
    "invalid_prints = []\n",
    "\n",
    "for printo in prints:\n",
    "    print_ok = True\n",
    "    print_nok = False\n",
    "    print_copy = printo.copy()\n",
    "\n",
    "    #find mid_element\n",
    "    mid_index = int(((len(print_copy)-1)/2))\n",
    "    mid_value = int(print_copy[mid_index:][0])\n",
    "\n",
    "    #check if the elements follow the printing rules\n",
    "    for ind in range(len(printo)-1):\n",
    "        print_before = print_copy[ind+1:]\n",
    "        elt = print_copy[ind]\n",
    "        for et in print_before:\n",
    "            if elt in dic_before[et]:\n",
    "                print_ok = False\n",
    "                print_nok = True\n",
    "   \n",
    "    if print_nok:\n",
    "        invalid_prints.append(printo)\n",
    "\n",
    "invalid_prints\n"
   ]
  },
  {
   "cell_type": "code",
   "execution_count": null,
   "metadata": {},
   "outputs": [],
   "source": [
    "new_prints = []\n",
    "for printo in invalid_prints:\n",
    "    print_copy = printo.copy()\n",
    "\n",
    "    #find mid_element\n",
    "    mid_index = int(((len(print_copy)-1)/2))\n",
    "    mid_value = int(print_copy[mid_index:][0])\n",
    "\n",
    "    _invalid = True\n",
    "    #check if the elements follow the printing rules\n",
    "    while _invalid:\n",
    "        _invalid = False\n",
    "        for ind in range(len(printo)-1):\n",
    "\n",
    "            print_before = print_copy[ind+1:]\n",
    "            elt = print_copy[ind]\n",
    "\n",
    "            for et in print_before:\n",
    "                if elt in dic_before[et]:\n",
    "                    print(\"-------------\")\n",
    "                    print(\"before\")\n",
    "                    print(print_copy)\n",
    "                    _invalid = True\n",
    "                    index_et = print_copy.index(et)\n",
    "                    print_copy[ind]=et\n",
    "                    print_copy[index_et]=elt\n",
    "                    print(f\"et={et}\")\n",
    "                    print(f\"index_et={index_et}\")\n",
    "                    print(f\"elt={elt}\")\n",
    "                    print(f\"ind={ind}\")\n",
    "                    print(\"after\")\n",
    "                    print(print_copy)\n",
    "                    break\n",
    "\n",
    "    new_prints.append(print_copy)\n",
    "\n",
    "\n",
    "sum_mid_elt = []\n",
    "for printo in new_prints:\n",
    "    print_copy = printo.copy()\n",
    "\n",
    "    #find mid_element\n",
    "    mid_index = int(((len(print_copy)-1)/2))\n",
    "    mid_value = int(print_copy[mid_index:][0])\n",
    "    sum_mid_elt.append(mid_value)\n",
    "\n",
    "sum(sum_mid_elt)\n"
   ]
  }
 ],
 "metadata": {
  "kernelspec": {
   "display_name": ".venv",
   "language": "python",
   "name": "python3"
  },
  "language_info": {
   "codemirror_mode": {
    "name": "ipython",
    "version": 3
   },
   "file_extension": ".py",
   "mimetype": "text/x-python",
   "name": "python",
   "nbconvert_exporter": "python",
   "pygments_lexer": "ipython3",
   "version": "3.12.0"
  }
 },
 "nbformat": 4,
 "nbformat_minor": 2
}
